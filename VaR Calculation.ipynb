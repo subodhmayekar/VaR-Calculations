{
 "cells": [
  {
   "cell_type": "code",
   "execution_count": 1,
   "metadata": {},
   "outputs": [
    {
     "name": "stdout",
     "output_type": "stream",
     "text": [
      "Requirement already satisfied: yfinance in c:\\users\\tejal\\appdata\\local\\packages\\pythonsoftwarefoundation.python.3.11_qbz5n2kfra8p0\\localcache\\local-packages\\python311\\site-packages (0.2.28)Note: you may need to restart the kernel to use updated packages.\n",
      "\n",
      "Requirement already satisfied: pandas>=1.3.0 in c:\\users\\tejal\\appdata\\local\\packages\\pythonsoftwarefoundation.python.3.11_qbz5n2kfra8p0\\localcache\\local-packages\\python311\\site-packages (from yfinance) (2.1.0)\n",
      "Requirement already satisfied: numpy>=1.16.5 in c:\\users\\tejal\\appdata\\local\\packages\\pythonsoftwarefoundation.python.3.11_qbz5n2kfra8p0\\localcache\\local-packages\\python311\\site-packages (from yfinance) (1.25.2)\n",
      "Requirement already satisfied: requests>=2.31 in c:\\users\\tejal\\appdata\\local\\packages\\pythonsoftwarefoundation.python.3.11_qbz5n2kfra8p0\\localcache\\local-packages\\python311\\site-packages (from yfinance) (2.31.0)\n",
      "Requirement already satisfied: multitasking>=0.0.7 in c:\\users\\tejal\\appdata\\local\\packages\\pythonsoftwarefoundation.python.3.11_qbz5n2kfra8p0\\localcache\\local-packages\\python311\\site-packages (from yfinance) (0.0.11)\n",
      "Requirement already satisfied: lxml>=4.9.1 in c:\\users\\tejal\\appdata\\local\\packages\\pythonsoftwarefoundation.python.3.11_qbz5n2kfra8p0\\localcache\\local-packages\\python311\\site-packages (from yfinance) (4.9.3)\n",
      "Requirement already satisfied: appdirs>=1.4.4 in c:\\users\\tejal\\appdata\\local\\packages\\pythonsoftwarefoundation.python.3.11_qbz5n2kfra8p0\\localcache\\local-packages\\python311\\site-packages (from yfinance) (1.4.4)\n",
      "Requirement already satisfied: pytz>=2022.5 in c:\\users\\tejal\\appdata\\local\\packages\\pythonsoftwarefoundation.python.3.11_qbz5n2kfra8p0\\localcache\\local-packages\\python311\\site-packages (from yfinance) (2023.3.post1)\n",
      "Requirement already satisfied: frozendict>=2.3.4 in c:\\users\\tejal\\appdata\\local\\packages\\pythonsoftwarefoundation.python.3.11_qbz5n2kfra8p0\\localcache\\local-packages\\python311\\site-packages (from yfinance) (2.3.8)\n",
      "Requirement already satisfied: beautifulsoup4>=4.11.1 in c:\\users\\tejal\\appdata\\local\\packages\\pythonsoftwarefoundation.python.3.11_qbz5n2kfra8p0\\localcache\\local-packages\\python311\\site-packages (from yfinance) (4.12.2)\n",
      "Requirement already satisfied: html5lib>=1.1 in c:\\users\\tejal\\appdata\\local\\packages\\pythonsoftwarefoundation.python.3.11_qbz5n2kfra8p0\\localcache\\local-packages\\python311\\site-packages (from yfinance) (1.1)\n",
      "Requirement already satisfied: soupsieve>1.2 in c:\\users\\tejal\\appdata\\local\\packages\\pythonsoftwarefoundation.python.3.11_qbz5n2kfra8p0\\localcache\\local-packages\\python311\\site-packages (from beautifulsoup4>=4.11.1->yfinance) (2.5)\n",
      "Requirement already satisfied: six>=1.9 in c:\\users\\tejal\\appdata\\local\\packages\\pythonsoftwarefoundation.python.3.11_qbz5n2kfra8p0\\localcache\\local-packages\\python311\\site-packages (from html5lib>=1.1->yfinance) (1.16.0)\n",
      "Requirement already satisfied: webencodings in c:\\users\\tejal\\appdata\\local\\packages\\pythonsoftwarefoundation.python.3.11_qbz5n2kfra8p0\\localcache\\local-packages\\python311\\site-packages (from html5lib>=1.1->yfinance) (0.5.1)\n",
      "Requirement already satisfied: python-dateutil>=2.8.2 in c:\\users\\tejal\\appdata\\local\\packages\\pythonsoftwarefoundation.python.3.11_qbz5n2kfra8p0\\localcache\\local-packages\\python311\\site-packages (from pandas>=1.3.0->yfinance) (2.8.2)\n",
      "Requirement already satisfied: tzdata>=2022.1 in c:\\users\\tejal\\appdata\\local\\packages\\pythonsoftwarefoundation.python.3.11_qbz5n2kfra8p0\\localcache\\local-packages\\python311\\site-packages (from pandas>=1.3.0->yfinance) (2023.3)\n",
      "Requirement already satisfied: charset-normalizer<4,>=2 in c:\\users\\tejal\\appdata\\local\\packages\\pythonsoftwarefoundation.python.3.11_qbz5n2kfra8p0\\localcache\\local-packages\\python311\\site-packages (from requests>=2.31->yfinance) (3.2.0)\n",
      "Requirement already satisfied: idna<4,>=2.5 in c:\\users\\tejal\\appdata\\local\\packages\\pythonsoftwarefoundation.python.3.11_qbz5n2kfra8p0\\localcache\\local-packages\\python311\\site-packages (from requests>=2.31->yfinance) (3.4)\n",
      "Requirement already satisfied: urllib3<3,>=1.21.1 in c:\\users\\tejal\\appdata\\local\\packages\\pythonsoftwarefoundation.python.3.11_qbz5n2kfra8p0\\localcache\\local-packages\\python311\\site-packages (from requests>=2.31->yfinance) (2.0.4)\n",
      "Requirement already satisfied: certifi>=2017.4.17 in c:\\users\\tejal\\appdata\\local\\packages\\pythonsoftwarefoundation.python.3.11_qbz5n2kfra8p0\\localcache\\local-packages\\python311\\site-packages (from requests>=2.31->yfinance) (2023.7.22)\n"
     ]
    }
   ],
   "source": [
    "pip install yfinance\n"
   ]
  },
  {
   "cell_type": "code",
   "execution_count": 5,
   "metadata": {},
   "outputs": [],
   "source": [
    "import yfinance as yf\n",
    "import numpy as np\n",
    "import datetime as dt\n",
    "import matplotlib.pyplot as plt\n",
    "from scipy.stats import norm \n"
   ]
  },
  {
   "cell_type": "code",
   "execution_count": 16,
   "metadata": {},
   "outputs": [],
   "source": [
    "tickers = ['AAPL', 'NMS', 'C', 'DIS', 'F', 'MSFT', 'MS', 'GME', 'TSLA', 'AMZN']\n",
    "weights = np.array([0.1,0.1,0.1,0.1,0.1,0.1,0.1,0.1,0.1,0.1])"
   ]
  },
  {
   "cell_type": "code",
   "execution_count": 17,
   "metadata": {},
   "outputs": [
    {
     "name": "stdout",
     "output_type": "stream",
     "text": [
      "[*********************100%%**********************]  10 of 10 completed\n"
     ]
    }
   ],
   "source": [
    "start = dt.datetime(2019,1,1)\n",
    "end = dt.datetime.now()\n",
    "\n",
    "df = yf.download(tickers, start, end)['Adj Close']"
   ]
  },
  {
   "cell_type": "code",
   "execution_count": 18,
   "metadata": {},
   "outputs": [
    {
     "data": {
      "text/html": [
       "<div>\n",
       "<style scoped>\n",
       "    .dataframe tbody tr th:only-of-type {\n",
       "        vertical-align: middle;\n",
       "    }\n",
       "\n",
       "    .dataframe tbody tr th {\n",
       "        vertical-align: top;\n",
       "    }\n",
       "\n",
       "    .dataframe thead th {\n",
       "        text-align: right;\n",
       "    }\n",
       "</style>\n",
       "<table border=\"1\" class=\"dataframe\">\n",
       "  <thead>\n",
       "    <tr style=\"text-align: right;\">\n",
       "      <th></th>\n",
       "      <th>AAPL</th>\n",
       "      <th>AMZN</th>\n",
       "      <th>C</th>\n",
       "      <th>DIS</th>\n",
       "      <th>F</th>\n",
       "      <th>GME</th>\n",
       "      <th>MS</th>\n",
       "      <th>MSFT</th>\n",
       "      <th>NMS</th>\n",
       "      <th>TSLA</th>\n",
       "    </tr>\n",
       "    <tr>\n",
       "      <th>Date</th>\n",
       "      <th></th>\n",
       "      <th></th>\n",
       "      <th></th>\n",
       "      <th></th>\n",
       "      <th></th>\n",
       "      <th></th>\n",
       "      <th></th>\n",
       "      <th></th>\n",
       "      <th></th>\n",
       "      <th></th>\n",
       "    </tr>\n",
       "  </thead>\n",
       "  <tbody>\n",
       "    <tr>\n",
       "      <th>2019-01-02</th>\n",
       "      <td>37.943249</td>\n",
       "      <td>76.956497</td>\n",
       "      <td>45.191227</td>\n",
       "      <td>107.654335</td>\n",
       "      <td>6.451035</td>\n",
       "      <td>3.160276</td>\n",
       "      <td>35.041664</td>\n",
       "      <td>96.218155</td>\n",
       "      <td>10.156167</td>\n",
       "      <td>20.674667</td>\n",
       "    </tr>\n",
       "    <tr>\n",
       "      <th>2019-01-03</th>\n",
       "      <td>34.163834</td>\n",
       "      <td>75.014000</td>\n",
       "      <td>44.372337</td>\n",
       "      <td>105.046211</td>\n",
       "      <td>6.353046</td>\n",
       "      <td>3.136097</td>\n",
       "      <td>34.417145</td>\n",
       "      <td>92.678505</td>\n",
       "      <td>10.230122</td>\n",
       "      <td>20.024000</td>\n",
       "    </tr>\n",
       "    <tr>\n",
       "      <th>2019-01-04</th>\n",
       "      <td>35.622250</td>\n",
       "      <td>78.769501</td>\n",
       "      <td>46.542000</td>\n",
       "      <td>108.286606</td>\n",
       "      <td>6.598021</td>\n",
       "      <td>3.684974</td>\n",
       "      <td>35.822289</td>\n",
       "      <td>96.988907</td>\n",
       "      <td>10.238341</td>\n",
       "      <td>21.179333</td>\n",
       "    </tr>\n",
       "    <tr>\n",
       "      <th>2019-01-07</th>\n",
       "      <td>35.542969</td>\n",
       "      <td>81.475502</td>\n",
       "      <td>46.947231</td>\n",
       "      <td>109.225136</td>\n",
       "      <td>6.769504</td>\n",
       "      <td>3.743005</td>\n",
       "      <td>36.177910</td>\n",
       "      <td>97.112610</td>\n",
       "      <td>10.312292</td>\n",
       "      <td>22.330667</td>\n",
       "    </tr>\n",
       "    <tr>\n",
       "      <th>2019-01-08</th>\n",
       "      <td>36.220524</td>\n",
       "      <td>82.829002</td>\n",
       "      <td>46.820583</td>\n",
       "      <td>110.074760</td>\n",
       "      <td>6.834832</td>\n",
       "      <td>3.822798</td>\n",
       "      <td>35.952393</td>\n",
       "      <td>97.816734</td>\n",
       "      <td>10.304072</td>\n",
       "      <td>22.356667</td>\n",
       "    </tr>\n",
       "    <tr>\n",
       "      <th>...</th>\n",
       "      <td>...</td>\n",
       "      <td>...</td>\n",
       "      <td>...</td>\n",
       "      <td>...</td>\n",
       "      <td>...</td>\n",
       "      <td>...</td>\n",
       "      <td>...</td>\n",
       "      <td>...</td>\n",
       "      <td>...</td>\n",
       "      <td>...</td>\n",
       "    </tr>\n",
       "    <tr>\n",
       "      <th>2023-09-28</th>\n",
       "      <td>170.690002</td>\n",
       "      <td>125.980003</td>\n",
       "      <td>41.200001</td>\n",
       "      <td>80.129997</td>\n",
       "      <td>12.560000</td>\n",
       "      <td>16.840000</td>\n",
       "      <td>82.190002</td>\n",
       "      <td>313.640015</td>\n",
       "      <td>9.750000</td>\n",
       "      <td>246.380005</td>\n",
       "    </tr>\n",
       "    <tr>\n",
       "      <th>2023-09-29</th>\n",
       "      <td>171.210007</td>\n",
       "      <td>127.120003</td>\n",
       "      <td>41.130001</td>\n",
       "      <td>81.050003</td>\n",
       "      <td>12.420000</td>\n",
       "      <td>16.459999</td>\n",
       "      <td>81.669998</td>\n",
       "      <td>315.750000</td>\n",
       "      <td>9.750000</td>\n",
       "      <td>250.220001</td>\n",
       "    </tr>\n",
       "    <tr>\n",
       "      <th>2023-10-02</th>\n",
       "      <td>173.750000</td>\n",
       "      <td>129.460007</td>\n",
       "      <td>40.500000</td>\n",
       "      <td>81.669998</td>\n",
       "      <td>12.310000</td>\n",
       "      <td>15.390000</td>\n",
       "      <td>80.410004</td>\n",
       "      <td>321.799988</td>\n",
       "      <td>9.670000</td>\n",
       "      <td>251.600006</td>\n",
       "    </tr>\n",
       "    <tr>\n",
       "      <th>2023-10-03</th>\n",
       "      <td>172.399994</td>\n",
       "      <td>124.720001</td>\n",
       "      <td>39.860001</td>\n",
       "      <td>79.540001</td>\n",
       "      <td>12.070000</td>\n",
       "      <td>14.600000</td>\n",
       "      <td>78.019997</td>\n",
       "      <td>313.390015</td>\n",
       "      <td>9.590000</td>\n",
       "      <td>246.529999</td>\n",
       "    </tr>\n",
       "    <tr>\n",
       "      <th>2023-10-04</th>\n",
       "      <td>173.660004</td>\n",
       "      <td>127.000000</td>\n",
       "      <td>39.810001</td>\n",
       "      <td>79.320000</td>\n",
       "      <td>11.990000</td>\n",
       "      <td>14.870000</td>\n",
       "      <td>79.089996</td>\n",
       "      <td>318.959991</td>\n",
       "      <td>9.650000</td>\n",
       "      <td>261.160004</td>\n",
       "    </tr>\n",
       "  </tbody>\n",
       "</table>\n",
       "<p>1198 rows × 10 columns</p>\n",
       "</div>"
      ],
      "text/plain": [
       "                  AAPL        AMZN          C         DIS          F  \\\n",
       "Date                                                                   \n",
       "2019-01-02   37.943249   76.956497  45.191227  107.654335   6.451035   \n",
       "2019-01-03   34.163834   75.014000  44.372337  105.046211   6.353046   \n",
       "2019-01-04   35.622250   78.769501  46.542000  108.286606   6.598021   \n",
       "2019-01-07   35.542969   81.475502  46.947231  109.225136   6.769504   \n",
       "2019-01-08   36.220524   82.829002  46.820583  110.074760   6.834832   \n",
       "...                ...         ...        ...         ...        ...   \n",
       "2023-09-28  170.690002  125.980003  41.200001   80.129997  12.560000   \n",
       "2023-09-29  171.210007  127.120003  41.130001   81.050003  12.420000   \n",
       "2023-10-02  173.750000  129.460007  40.500000   81.669998  12.310000   \n",
       "2023-10-03  172.399994  124.720001  39.860001   79.540001  12.070000   \n",
       "2023-10-04  173.660004  127.000000  39.810001   79.320000  11.990000   \n",
       "\n",
       "                  GME         MS        MSFT        NMS        TSLA  \n",
       "Date                                                                 \n",
       "2019-01-02   3.160276  35.041664   96.218155  10.156167   20.674667  \n",
       "2019-01-03   3.136097  34.417145   92.678505  10.230122   20.024000  \n",
       "2019-01-04   3.684974  35.822289   96.988907  10.238341   21.179333  \n",
       "2019-01-07   3.743005  36.177910   97.112610  10.312292   22.330667  \n",
       "2019-01-08   3.822798  35.952393   97.816734  10.304072   22.356667  \n",
       "...               ...        ...         ...        ...         ...  \n",
       "2023-09-28  16.840000  82.190002  313.640015   9.750000  246.380005  \n",
       "2023-09-29  16.459999  81.669998  315.750000   9.750000  250.220001  \n",
       "2023-10-02  15.390000  80.410004  321.799988   9.670000  251.600006  \n",
       "2023-10-03  14.600000  78.019997  313.390015   9.590000  246.529999  \n",
       "2023-10-04  14.870000  79.089996  318.959991   9.650000  261.160004  \n",
       "\n",
       "[1198 rows x 10 columns]"
      ]
     },
     "execution_count": 18,
     "metadata": {},
     "output_type": "execute_result"
    }
   ],
   "source": [
    "df"
   ]
  },
  {
   "cell_type": "code",
   "execution_count": 21,
   "metadata": {},
   "outputs": [
    {
     "data": {
      "text/html": [
       "<div>\n",
       "<style scoped>\n",
       "    .dataframe tbody tr th:only-of-type {\n",
       "        vertical-align: middle;\n",
       "    }\n",
       "\n",
       "    .dataframe tbody tr th {\n",
       "        vertical-align: top;\n",
       "    }\n",
       "\n",
       "    .dataframe thead th {\n",
       "        text-align: right;\n",
       "    }\n",
       "</style>\n",
       "<table border=\"1\" class=\"dataframe\">\n",
       "  <thead>\n",
       "    <tr style=\"text-align: right;\">\n",
       "      <th></th>\n",
       "      <th>AAPL</th>\n",
       "      <th>AMZN</th>\n",
       "      <th>C</th>\n",
       "      <th>DIS</th>\n",
       "      <th>F</th>\n",
       "      <th>GME</th>\n",
       "      <th>MS</th>\n",
       "      <th>MSFT</th>\n",
       "      <th>NMS</th>\n",
       "      <th>TSLA</th>\n",
       "    </tr>\n",
       "    <tr>\n",
       "      <th>Date</th>\n",
       "      <th></th>\n",
       "      <th></th>\n",
       "      <th></th>\n",
       "      <th></th>\n",
       "      <th></th>\n",
       "      <th></th>\n",
       "      <th></th>\n",
       "      <th></th>\n",
       "      <th></th>\n",
       "      <th></th>\n",
       "    </tr>\n",
       "  </thead>\n",
       "  <tbody>\n",
       "    <tr>\n",
       "      <th>2019-01-02</th>\n",
       "      <td>NaN</td>\n",
       "      <td>NaN</td>\n",
       "      <td>NaN</td>\n",
       "      <td>NaN</td>\n",
       "      <td>NaN</td>\n",
       "      <td>NaN</td>\n",
       "      <td>NaN</td>\n",
       "      <td>NaN</td>\n",
       "      <td>NaN</td>\n",
       "      <td>NaN</td>\n",
       "    </tr>\n",
       "    <tr>\n",
       "      <th>2019-01-03</th>\n",
       "      <td>-0.099607</td>\n",
       "      <td>-0.025241</td>\n",
       "      <td>-0.018121</td>\n",
       "      <td>-0.024227</td>\n",
       "      <td>-0.015190</td>\n",
       "      <td>-0.007651</td>\n",
       "      <td>-0.017822</td>\n",
       "      <td>-0.036788</td>\n",
       "      <td>0.007282</td>\n",
       "      <td>-0.031472</td>\n",
       "    </tr>\n",
       "    <tr>\n",
       "      <th>2019-01-04</th>\n",
       "      <td>0.042689</td>\n",
       "      <td>0.050064</td>\n",
       "      <td>0.048897</td>\n",
       "      <td>0.030847</td>\n",
       "      <td>0.038560</td>\n",
       "      <td>0.175019</td>\n",
       "      <td>0.040827</td>\n",
       "      <td>0.046509</td>\n",
       "      <td>0.000803</td>\n",
       "      <td>0.057697</td>\n",
       "    </tr>\n",
       "    <tr>\n",
       "      <th>2019-01-07</th>\n",
       "      <td>-0.002226</td>\n",
       "      <td>0.034353</td>\n",
       "      <td>0.008707</td>\n",
       "      <td>0.008667</td>\n",
       "      <td>0.025990</td>\n",
       "      <td>0.015748</td>\n",
       "      <td>0.009927</td>\n",
       "      <td>0.001275</td>\n",
       "      <td>0.007223</td>\n",
       "      <td>0.054361</td>\n",
       "    </tr>\n",
       "    <tr>\n",
       "      <th>2019-01-08</th>\n",
       "      <td>0.019063</td>\n",
       "      <td>0.016612</td>\n",
       "      <td>-0.002698</td>\n",
       "      <td>0.007779</td>\n",
       "      <td>0.009650</td>\n",
       "      <td>0.021318</td>\n",
       "      <td>-0.006234</td>\n",
       "      <td>0.007251</td>\n",
       "      <td>-0.000797</td>\n",
       "      <td>0.001164</td>\n",
       "    </tr>\n",
       "    <tr>\n",
       "      <th>...</th>\n",
       "      <td>...</td>\n",
       "      <td>...</td>\n",
       "      <td>...</td>\n",
       "      <td>...</td>\n",
       "      <td>...</td>\n",
       "      <td>...</td>\n",
       "      <td>...</td>\n",
       "      <td>...</td>\n",
       "      <td>...</td>\n",
       "      <td>...</td>\n",
       "    </tr>\n",
       "    <tr>\n",
       "      <th>2023-09-28</th>\n",
       "      <td>0.001526</td>\n",
       "      <td>0.000000</td>\n",
       "      <td>0.018290</td>\n",
       "      <td>0.002879</td>\n",
       "      <td>0.013721</td>\n",
       "      <td>-0.018076</td>\n",
       "      <td>0.006614</td>\n",
       "      <td>0.002717</td>\n",
       "      <td>-0.003475</td>\n",
       "      <td>0.024449</td>\n",
       "    </tr>\n",
       "    <tr>\n",
       "      <th>2023-09-29</th>\n",
       "      <td>0.003046</td>\n",
       "      <td>0.009049</td>\n",
       "      <td>-0.001699</td>\n",
       "      <td>0.011481</td>\n",
       "      <td>-0.011147</td>\n",
       "      <td>-0.022565</td>\n",
       "      <td>-0.006327</td>\n",
       "      <td>0.006727</td>\n",
       "      <td>0.000000</td>\n",
       "      <td>0.015586</td>\n",
       "    </tr>\n",
       "    <tr>\n",
       "      <th>2023-10-02</th>\n",
       "      <td>0.014836</td>\n",
       "      <td>0.018408</td>\n",
       "      <td>-0.015317</td>\n",
       "      <td>0.007650</td>\n",
       "      <td>-0.008857</td>\n",
       "      <td>-0.065006</td>\n",
       "      <td>-0.015428</td>\n",
       "      <td>0.019161</td>\n",
       "      <td>-0.008205</td>\n",
       "      <td>0.005515</td>\n",
       "    </tr>\n",
       "    <tr>\n",
       "      <th>2023-10-03</th>\n",
       "      <td>-0.007770</td>\n",
       "      <td>-0.036614</td>\n",
       "      <td>-0.015802</td>\n",
       "      <td>-0.026081</td>\n",
       "      <td>-0.019496</td>\n",
       "      <td>-0.051332</td>\n",
       "      <td>-0.029723</td>\n",
       "      <td>-0.026134</td>\n",
       "      <td>-0.008273</td>\n",
       "      <td>-0.020151</td>\n",
       "    </tr>\n",
       "    <tr>\n",
       "      <th>2023-10-04</th>\n",
       "      <td>0.007309</td>\n",
       "      <td>0.018281</td>\n",
       "      <td>-0.001254</td>\n",
       "      <td>-0.002766</td>\n",
       "      <td>-0.006628</td>\n",
       "      <td>0.018493</td>\n",
       "      <td>0.013714</td>\n",
       "      <td>0.017773</td>\n",
       "      <td>0.006256</td>\n",
       "      <td>0.059344</td>\n",
       "    </tr>\n",
       "  </tbody>\n",
       "</table>\n",
       "<p>1198 rows × 10 columns</p>\n",
       "</div>"
      ],
      "text/plain": [
       "                AAPL      AMZN         C       DIS         F       GME  \\\n",
       "Date                                                                     \n",
       "2019-01-02       NaN       NaN       NaN       NaN       NaN       NaN   \n",
       "2019-01-03 -0.099607 -0.025241 -0.018121 -0.024227 -0.015190 -0.007651   \n",
       "2019-01-04  0.042689  0.050064  0.048897  0.030847  0.038560  0.175019   \n",
       "2019-01-07 -0.002226  0.034353  0.008707  0.008667  0.025990  0.015748   \n",
       "2019-01-08  0.019063  0.016612 -0.002698  0.007779  0.009650  0.021318   \n",
       "...              ...       ...       ...       ...       ...       ...   \n",
       "2023-09-28  0.001526  0.000000  0.018290  0.002879  0.013721 -0.018076   \n",
       "2023-09-29  0.003046  0.009049 -0.001699  0.011481 -0.011147 -0.022565   \n",
       "2023-10-02  0.014836  0.018408 -0.015317  0.007650 -0.008857 -0.065006   \n",
       "2023-10-03 -0.007770 -0.036614 -0.015802 -0.026081 -0.019496 -0.051332   \n",
       "2023-10-04  0.007309  0.018281 -0.001254 -0.002766 -0.006628  0.018493   \n",
       "\n",
       "                  MS      MSFT       NMS      TSLA  \n",
       "Date                                                \n",
       "2019-01-02       NaN       NaN       NaN       NaN  \n",
       "2019-01-03 -0.017822 -0.036788  0.007282 -0.031472  \n",
       "2019-01-04  0.040827  0.046509  0.000803  0.057697  \n",
       "2019-01-07  0.009927  0.001275  0.007223  0.054361  \n",
       "2019-01-08 -0.006234  0.007251 -0.000797  0.001164  \n",
       "...              ...       ...       ...       ...  \n",
       "2023-09-28  0.006614  0.002717 -0.003475  0.024449  \n",
       "2023-09-29 -0.006327  0.006727  0.000000  0.015586  \n",
       "2023-10-02 -0.015428  0.019161 -0.008205  0.005515  \n",
       "2023-10-03 -0.029723 -0.026134 -0.008273 -0.020151  \n",
       "2023-10-04  0.013714  0.017773  0.006256  0.059344  \n",
       "\n",
       "[1198 rows x 10 columns]"
      ]
     },
     "execution_count": 21,
     "metadata": {},
     "output_type": "execute_result"
    }
   ],
   "source": [
    "returns = df.pct_change()\n",
    "returns"
   ]
  },
  {
   "cell_type": "code",
   "execution_count": 22,
   "metadata": {},
   "outputs": [
    {
     "data": {
      "text/html": [
       "<div>\n",
       "<style scoped>\n",
       "    .dataframe tbody tr th:only-of-type {\n",
       "        vertical-align: middle;\n",
       "    }\n",
       "\n",
       "    .dataframe tbody tr th {\n",
       "        vertical-align: top;\n",
       "    }\n",
       "\n",
       "    .dataframe thead th {\n",
       "        text-align: right;\n",
       "    }\n",
       "</style>\n",
       "<table border=\"1\" class=\"dataframe\">\n",
       "  <thead>\n",
       "    <tr style=\"text-align: right;\">\n",
       "      <th></th>\n",
       "      <th>AAPL</th>\n",
       "      <th>AMZN</th>\n",
       "      <th>C</th>\n",
       "      <th>DIS</th>\n",
       "      <th>F</th>\n",
       "      <th>GME</th>\n",
       "      <th>MS</th>\n",
       "      <th>MSFT</th>\n",
       "      <th>NMS</th>\n",
       "      <th>TSLA</th>\n",
       "    </tr>\n",
       "  </thead>\n",
       "  <tbody>\n",
       "    <tr>\n",
       "      <th>AAPL</th>\n",
       "      <td>0.000428</td>\n",
       "      <td>0.000288</td>\n",
       "      <td>0.000238</td>\n",
       "      <td>0.000208</td>\n",
       "      <td>0.000226</td>\n",
       "      <td>0.000321</td>\n",
       "      <td>0.000250</td>\n",
       "      <td>0.000307</td>\n",
       "      <td>0.000037</td>\n",
       "      <td>0.000420</td>\n",
       "    </tr>\n",
       "    <tr>\n",
       "      <th>AMZN</th>\n",
       "      <td>0.000288</td>\n",
       "      <td>0.000501</td>\n",
       "      <td>0.000172</td>\n",
       "      <td>0.000205</td>\n",
       "      <td>0.000182</td>\n",
       "      <td>0.000280</td>\n",
       "      <td>0.000184</td>\n",
       "      <td>0.000301</td>\n",
       "      <td>0.000018</td>\n",
       "      <td>0.000411</td>\n",
       "    </tr>\n",
       "    <tr>\n",
       "      <th>C</th>\n",
       "      <td>0.000238</td>\n",
       "      <td>0.000172</td>\n",
       "      <td>0.000619</td>\n",
       "      <td>0.000322</td>\n",
       "      <td>0.000404</td>\n",
       "      <td>0.000414</td>\n",
       "      <td>0.000461</td>\n",
       "      <td>0.000221</td>\n",
       "      <td>0.000056</td>\n",
       "      <td>0.000318</td>\n",
       "    </tr>\n",
       "    <tr>\n",
       "      <th>DIS</th>\n",
       "      <td>0.000208</td>\n",
       "      <td>0.000205</td>\n",
       "      <td>0.000322</td>\n",
       "      <td>0.000455</td>\n",
       "      <td>0.000301</td>\n",
       "      <td>0.000252</td>\n",
       "      <td>0.000292</td>\n",
       "      <td>0.000209</td>\n",
       "      <td>0.000039</td>\n",
       "      <td>0.000283</td>\n",
       "    </tr>\n",
       "    <tr>\n",
       "      <th>F</th>\n",
       "      <td>0.000226</td>\n",
       "      <td>0.000182</td>\n",
       "      <td>0.000404</td>\n",
       "      <td>0.000301</td>\n",
       "      <td>0.000745</td>\n",
       "      <td>0.000500</td>\n",
       "      <td>0.000366</td>\n",
       "      <td>0.000200</td>\n",
       "      <td>0.000049</td>\n",
       "      <td>0.000385</td>\n",
       "    </tr>\n",
       "    <tr>\n",
       "      <th>GME</th>\n",
       "      <td>0.000321</td>\n",
       "      <td>0.000280</td>\n",
       "      <td>0.000414</td>\n",
       "      <td>0.000252</td>\n",
       "      <td>0.000500</td>\n",
       "      <td>0.008891</td>\n",
       "      <td>0.000293</td>\n",
       "      <td>0.000241</td>\n",
       "      <td>0.000028</td>\n",
       "      <td>0.000691</td>\n",
       "    </tr>\n",
       "    <tr>\n",
       "      <th>MS</th>\n",
       "      <td>0.000250</td>\n",
       "      <td>0.000184</td>\n",
       "      <td>0.000461</td>\n",
       "      <td>0.000292</td>\n",
       "      <td>0.000366</td>\n",
       "      <td>0.000293</td>\n",
       "      <td>0.000502</td>\n",
       "      <td>0.000238</td>\n",
       "      <td>0.000052</td>\n",
       "      <td>0.000298</td>\n",
       "    </tr>\n",
       "    <tr>\n",
       "      <th>MSFT</th>\n",
       "      <td>0.000307</td>\n",
       "      <td>0.000301</td>\n",
       "      <td>0.000221</td>\n",
       "      <td>0.000209</td>\n",
       "      <td>0.000200</td>\n",
       "      <td>0.000241</td>\n",
       "      <td>0.000238</td>\n",
       "      <td>0.000380</td>\n",
       "      <td>0.000042</td>\n",
       "      <td>0.000371</td>\n",
       "    </tr>\n",
       "    <tr>\n",
       "      <th>NMS</th>\n",
       "      <td>0.000037</td>\n",
       "      <td>0.000018</td>\n",
       "      <td>0.000056</td>\n",
       "      <td>0.000039</td>\n",
       "      <td>0.000049</td>\n",
       "      <td>0.000028</td>\n",
       "      <td>0.000052</td>\n",
       "      <td>0.000042</td>\n",
       "      <td>0.000119</td>\n",
       "      <td>0.000033</td>\n",
       "    </tr>\n",
       "    <tr>\n",
       "      <th>TSLA</th>\n",
       "      <td>0.000420</td>\n",
       "      <td>0.000411</td>\n",
       "      <td>0.000318</td>\n",
       "      <td>0.000283</td>\n",
       "      <td>0.000385</td>\n",
       "      <td>0.000691</td>\n",
       "      <td>0.000298</td>\n",
       "      <td>0.000371</td>\n",
       "      <td>0.000033</td>\n",
       "      <td>0.001705</td>\n",
       "    </tr>\n",
       "  </tbody>\n",
       "</table>\n",
       "</div>"
      ],
      "text/plain": [
       "          AAPL      AMZN         C       DIS         F       GME        MS  \\\n",
       "AAPL  0.000428  0.000288  0.000238  0.000208  0.000226  0.000321  0.000250   \n",
       "AMZN  0.000288  0.000501  0.000172  0.000205  0.000182  0.000280  0.000184   \n",
       "C     0.000238  0.000172  0.000619  0.000322  0.000404  0.000414  0.000461   \n",
       "DIS   0.000208  0.000205  0.000322  0.000455  0.000301  0.000252  0.000292   \n",
       "F     0.000226  0.000182  0.000404  0.000301  0.000745  0.000500  0.000366   \n",
       "GME   0.000321  0.000280  0.000414  0.000252  0.000500  0.008891  0.000293   \n",
       "MS    0.000250  0.000184  0.000461  0.000292  0.000366  0.000293  0.000502   \n",
       "MSFT  0.000307  0.000301  0.000221  0.000209  0.000200  0.000241  0.000238   \n",
       "NMS   0.000037  0.000018  0.000056  0.000039  0.000049  0.000028  0.000052   \n",
       "TSLA  0.000420  0.000411  0.000318  0.000283  0.000385  0.000691  0.000298   \n",
       "\n",
       "          MSFT       NMS      TSLA  \n",
       "AAPL  0.000307  0.000037  0.000420  \n",
       "AMZN  0.000301  0.000018  0.000411  \n",
       "C     0.000221  0.000056  0.000318  \n",
       "DIS   0.000209  0.000039  0.000283  \n",
       "F     0.000200  0.000049  0.000385  \n",
       "GME   0.000241  0.000028  0.000691  \n",
       "MS    0.000238  0.000052  0.000298  \n",
       "MSFT  0.000380  0.000042  0.000371  \n",
       "NMS   0.000042  0.000119  0.000033  \n",
       "TSLA  0.000371  0.000033  0.001705  "
      ]
     },
     "execution_count": 22,
     "metadata": {},
     "output_type": "execute_result"
    }
   ],
   "source": [
    "cov_matrix = returns.cov()\n",
    "cov_matrix"
   ]
  },
  {
   "cell_type": "code",
   "execution_count": 23,
   "metadata": {},
   "outputs": [
    {
     "data": {
      "text/plain": [
       "AAPL    0.001486\n",
       "AMZN    0.000669\n",
       "C       0.000204\n",
       "DIS    -0.000028\n",
       "F       0.000888\n",
       "GME     0.005079\n",
       "MS      0.000930\n",
       "MSFT    0.001192\n",
       "NMS     0.000017\n",
       "TSLA    0.002973\n",
       "dtype: float64"
      ]
     },
     "execution_count": 23,
     "metadata": {},
     "output_type": "execute_result"
    }
   ],
   "source": [
    "avg_returns = returns.mean()\n",
    "\n",
    "avg_returns"
   ]
  },
  {
   "cell_type": "code",
   "execution_count": 25,
   "metadata": {},
   "outputs": [
    {
     "name": "stderr",
     "output_type": "stream",
     "text": [
      "C:\\Users\\tejal\\AppData\\Local\\Temp\\ipykernel_25328\\3364445099.py:1: FutureWarning: Series.__getitem__ treating keys as positions is deprecated. In a future version, integer keys will always be treated as labels (consistent with DataFrame behavior). To access a value by position, use `ser.iloc[pos]`\n",
      "  count = returns.count()[0]\n"
     ]
    },
    {
     "data": {
      "text/plain": [
       "1197"
      ]
     },
     "execution_count": 25,
     "metadata": {},
     "output_type": "execute_result"
    }
   ],
   "source": [
    "count = returns.count()[0]\n",
    "count"
   ]
  },
  {
   "cell_type": "code",
   "execution_count": 26,
   "metadata": {},
   "outputs": [],
   "source": [
    "port_mean = avg_returns @ weights\n",
    "port_std = np.sqrt(weights.T @ cov_matrix @ weights)"
   ]
  },
  {
   "cell_type": "code",
   "execution_count": 27,
   "metadata": {},
   "outputs": [
    {
     "data": {
      "text/plain": [
       "0.0013408197747360896"
      ]
     },
     "execution_count": 27,
     "metadata": {},
     "output_type": "execute_result"
    }
   ],
   "source": [
    "port_mean"
   ]
  },
  {
   "cell_type": "code",
   "execution_count": 28,
   "metadata": {},
   "outputs": [
    {
     "data": {
      "text/plain": [
       "0.019275213124927186"
      ]
     },
     "execution_count": 28,
     "metadata": {},
     "output_type": "execute_result"
    }
   ],
   "source": [
    "port_std"
   ]
  },
  {
   "cell_type": "code",
   "execution_count": 35,
   "metadata": {},
   "outputs": [
    {
     "data": {
      "text/plain": [
       "array([ 0.59612938,  0.68354881,  0.78168111,  0.89149883,  1.01401182,\n",
       "        1.15026083,  1.30130987,  1.4682371 ,  1.65212438,  1.85404539,\n",
       "        2.07505237,  2.3161615 ,  2.57833707,  2.86247448,  3.16938232,\n",
       "        3.49976364,  3.85419671,  4.23311547,  4.63679004,  5.06530759,\n",
       "        5.51855394,  5.99619624,  6.49766716,  7.02215095,  7.56857184,\n",
       "        8.13558508,  8.72157103,  9.32463261,  9.94259648, 10.5730181 ,\n",
       "       11.21319085, 11.86015948, 12.51073777, 13.16153037, 13.80895888,\n",
       "       14.44929172, 15.07867772, 15.69318288, 16.28882995, 16.86164029,\n",
       "       17.40767732, 17.9230911 , 18.4041631 , 18.8473507 , 19.2493304 ,\n",
       "       19.60703929, 19.91771382, 20.17892537, 20.3886118 , 20.5451046 ,\n",
       "       20.64715098, 20.69393055, 20.68506632, 20.62062979, 20.50113991,\n",
       "       20.32755622, 20.10126593, 19.82406552, 19.49813695, 19.12601911,\n",
       "       18.71057488, 18.25495447, 17.76255574, 17.2369821 , 16.68199874,\n",
       "       16.10148807, 15.49940484, 14.87973191, 14.24643719, 13.6034325 ,\n",
       "       12.95453477, 12.30343029, 11.65364226, 11.00850206, 10.37112457,\n",
       "        9.7443876 ,  9.13091557,  8.53306749,  7.95292911,  7.39230911,\n",
       "        6.85273918,  6.33547766,  5.84151642,  5.37159075,  4.92619171,\n",
       "        4.50558076,  4.10980602,  3.73872005,  3.39199846,  3.06915925,\n",
       "        2.76958231,  2.49252893,  2.23716087,  2.0025589 ,  1.78774042,\n",
       "        1.59167611,  1.41330538,  1.25155058,  1.10532979,  0.97356829,\n",
       "        0.85520857,  0.74921893,  0.65460078,  0.57039456,  0.49568446,\n",
       "        0.42960201])"
      ]
     },
     "execution_count": 35,
     "metadata": {},
     "output_type": "execute_result"
    }
   ],
   "source": [
    "x = np.arange(-0.05,0.055,0.001)\n",
    "x\n",
    "norm_dist = norm.pdf(x, port_mean, port_std)\n",
    "norm_dist"
   ]
  },
  {
   "cell_type": "code",
   "execution_count": 36,
   "metadata": {},
   "outputs": [
    {
     "data": {
      "text/plain": [
       "<function matplotlib.pyplot.show(close=None, block=None)>"
      ]
     },
     "execution_count": 36,
     "metadata": {},
     "output_type": "execute_result"
    },
    {
     "data": {
      "image/png": "[encoded data removed]",
      "text/plain": [
       "<Figure size 640x480 with 1 Axes>"
      ]
     },
     "metadata": {},
     "output_type": "display_data"
    }
   ],
   "source": [
    "plt.plot(x,norm_dist, color = 'r')\n",
    "plt.show"
   ]
  },
  {
   "cell_type": "code",
   "execution_count": 37,
   "metadata": {},
   "outputs": [
    {
     "data": {
      "text/plain": [
       "-0.03036408444406303"
      ]
     },
     "execution_count": 37,
     "metadata": {},
     "output_type": "execute_result"
    }
   ],
   "source": [
    "confidence_level = 0.05\n",
    "\n",
    "VaR = norm.ppf(confidence_level, port_mean, port_std)\n",
    "\n",
    "VaR"
   ]
  },
  {
   "cell_type": "code",
   "execution_count": 38,
   "metadata": {},
   "outputs": [
    {
     "data": {
      "text/plain": [
       "-0.06789615689146884"
      ]
     },
     "execution_count": 38,
     "metadata": {},
     "output_type": "execute_result"
    }
   ],
   "source": [
    "num_days = 5\n",
    "\n",
    "VaR * np.sqrt(num_days)"
   ]
  },
  {
   "cell_type": "code",
   "execution_count": 39,
   "metadata": {},
   "outputs": [],
   "source": [
    "lower = port_mean - 2 * port_std / np.sqrt(count)\n",
    "\n",
    "higher = port_mean + 2 * port_std /np.sqrt(count)"
   ]
  },
  {
   "cell_type": "code",
   "execution_count": 40,
   "metadata": {},
   "outputs": [
    {
     "data": {
      "text/plain": [
       "0.0002265711437143209"
      ]
     },
     "execution_count": 40,
     "metadata": {},
     "output_type": "execute_result"
    }
   ],
   "source": [
    "lower"
   ]
  },
  {
   "cell_type": "code",
   "execution_count": 41,
   "metadata": {},
   "outputs": [
    {
     "data": {
      "text/plain": [
       "0.0024550684057578582"
      ]
     },
     "execution_count": 41,
     "metadata": {},
     "output_type": "execute_result"
    }
   ],
   "source": [
    "higher"
   ]
  },
  {
   "cell_type": "code",
   "execution_count": null,
   "metadata": {},
   "outputs": [],
   "source": []
  }
 ],
 "metadata": {
  "kernelspec": {
   "display_name": "Python 3",
   "language": "python",
   "name": "python3"
  },
  "language_info": {
   "codemirror_mode": {
    "name": "ipython",
    "version": 3
   },
   "file_extension": ".py",
   "mimetype": "text/x-python",
   "name": "python",
   "nbconvert_exporter": "python",
   "pygments_lexer": "ipython3",
   "version": "3.11.6"
  }
 },
 "nbformat": 4,
 "nbformat_minor": 2
}
