{
 "cells": [
  {
   "cell_type": "code",
   "execution_count": 2,
   "metadata": {},
   "outputs": [],
   "source": [
    "import numpy as np\n",
    "import pandas as pd\n",
    "import yfinance as yf\n",
    "import datetime as dt\n",
    "import matplotlib.pyplot as plt\n",
    "from scipy.stats import norm "
   ]
  },
  {
   "cell_type": "code",
   "execution_count": 3,
   "metadata": {},
   "outputs": [],
   "source": [
    "years = 15 \n",
    "\n",
    "endDate = dt.datetime.now()\n",
    "\n",
    "startDate = endDate - dt.timedelta(days = 365*years)"
   ]
  },
  {
   "cell_type": "code",
   "execution_count": 4,
   "metadata": {},
   "outputs": [],
   "source": [
    "tickers = ['SPY', 'BND', 'GLD', 'QQQ', 'VTI']\n"
   ]
  },
  {
   "cell_type": "code",
   "execution_count": 5,
   "metadata": {},
   "outputs": [
    {
     "name": "stdout",
     "output_type": "stream",
     "text": [
      "[*********************100%%**********************]  1 of 1 completed\n",
      "[*********************100%%**********************]  1 of 1 completed\n",
      "[*********************100%%**********************]  1 of 1 completed\n",
      "[*********************100%%**********************]  1 of 1 completed\n",
      "[*********************100%%**********************]  1 of 1 completed\n"
     ]
    }
   ],
   "source": [
    "#Download adjusted close prices\n",
    "\n",
    "adj_close_df = pd.DataFrame()\n",
    "\n",
    "for t in tickers:\n",
    "    data = yf.download(t, start= startDate, end= endDate)\n",
    "    adj_close_df[t] =  data['Adj Close']"
   ]
  },
  {
   "cell_type": "code",
   "execution_count": 6,
   "metadata": {},
   "outputs": [
    {
     "name": "stdout",
     "output_type": "stream",
     "text": [
      "                   SPY        BND         GLD         QQQ         VTI\n",
      "Date                                                                 \n",
      "2008-10-08   72.975731  48.154270   89.419998   28.333380   36.723751\n",
      "2008-10-09   67.879158  46.654305   89.900002   27.572348   34.417698\n",
      "2008-10-10   66.232704  45.231907   83.220001   27.397390   33.422916\n",
      "2008-10-13   75.849541  47.113331   81.989998   30.730215   37.711014\n",
      "2008-10-14   74.726944  47.714634   82.199997   29.400585   37.386940\n",
      "...                ...        ...         ...         ...         ...\n",
      "2023-09-28  428.519989  69.617912  173.229996  358.010010  213.029999\n",
      "2023-09-29  427.480011  69.587997  171.449997  358.269989  212.410004\n",
      "2023-10-02  427.309998  69.110001  169.649994  361.260010  212.130005\n",
      "2023-10-03  421.589996  68.550003  169.160004  354.920013  209.050003\n",
      "2023-10-04  424.660004  69.000000  169.139999  359.750000  210.559998\n",
      "\n",
      "[3773 rows x 5 columns]\n"
     ]
    }
   ],
   "source": [
    "print(adj_close_df)"
   ]
  },
  {
   "cell_type": "code",
   "execution_count": 7,
   "metadata": {},
   "outputs": [],
   "source": [
    "#Calculate daily log returns and drop NA\n",
    "#Drop NA as first row will be null\n",
    "\n",
    "log_returns = np.log(adj_close_df/adj_close_df.shift(1))\n",
    "\n",
    "log_returns = log_returns.dropna()"
   ]
  },
  {
   "cell_type": "code",
   "execution_count": 8,
   "metadata": {},
   "outputs": [
    {
     "data": {
      "text/html": [
       "<div>\n",
       "<style scoped>\n",
       "    .dataframe tbody tr th:only-of-type {\n",
       "        vertical-align: middle;\n",
       "    }\n",
       "\n",
       "    .dataframe tbody tr th {\n",
       "        vertical-align: top;\n",
       "    }\n",
       "\n",
       "    .dataframe thead th {\n",
       "        text-align: right;\n",
       "    }\n",
       "</style>\n",
       "<table border=\"1\" class=\"dataframe\">\n",
       "  <thead>\n",
       "    <tr style=\"text-align: right;\">\n",
       "      <th></th>\n",
       "      <th>SPY</th>\n",
       "      <th>BND</th>\n",
       "      <th>GLD</th>\n",
       "      <th>QQQ</th>\n",
       "      <th>VTI</th>\n",
       "    </tr>\n",
       "    <tr>\n",
       "      <th>Date</th>\n",
       "      <th></th>\n",
       "      <th></th>\n",
       "      <th></th>\n",
       "      <th></th>\n",
       "      <th></th>\n",
       "    </tr>\n",
       "  </thead>\n",
       "  <tbody>\n",
       "    <tr>\n",
       "      <th>2008-10-09</th>\n",
       "      <td>-0.072398</td>\n",
       "      <td>-0.031645</td>\n",
       "      <td>0.005354</td>\n",
       "      <td>-0.027227</td>\n",
       "      <td>-0.064853</td>\n",
       "    </tr>\n",
       "    <tr>\n",
       "      <th>2008-10-10</th>\n",
       "      <td>-0.024555</td>\n",
       "      <td>-0.030962</td>\n",
       "      <td>-0.077210</td>\n",
       "      <td>-0.006366</td>\n",
       "      <td>-0.029329</td>\n",
       "    </tr>\n",
       "    <tr>\n",
       "      <th>2008-10-13</th>\n",
       "      <td>0.135577</td>\n",
       "      <td>0.040753</td>\n",
       "      <td>-0.014890</td>\n",
       "      <td>0.114799</td>\n",
       "      <td>0.120710</td>\n",
       "    </tr>\n",
       "    <tr>\n",
       "      <th>2008-10-14</th>\n",
       "      <td>-0.014911</td>\n",
       "      <td>0.012682</td>\n",
       "      <td>0.002558</td>\n",
       "      <td>-0.044232</td>\n",
       "      <td>-0.008631</td>\n",
       "    </tr>\n",
       "    <tr>\n",
       "      <th>2008-10-15</th>\n",
       "      <td>-0.103637</td>\n",
       "      <td>-0.006116</td>\n",
       "      <td>0.013413</td>\n",
       "      <td>-0.093823</td>\n",
       "      <td>-0.098197</td>\n",
       "    </tr>\n",
       "    <tr>\n",
       "      <th>...</th>\n",
       "      <td>...</td>\n",
       "      <td>...</td>\n",
       "      <td>...</td>\n",
       "      <td>...</td>\n",
       "      <td>...</td>\n",
       "    </tr>\n",
       "    <tr>\n",
       "      <th>2023-09-28</th>\n",
       "      <td>0.005781</td>\n",
       "      <td>0.002582</td>\n",
       "      <td>-0.005010</td>\n",
       "      <td>0.008330</td>\n",
       "      <td>0.006594</td>\n",
       "    </tr>\n",
       "    <tr>\n",
       "      <th>2023-09-29</th>\n",
       "      <td>-0.002430</td>\n",
       "      <td>-0.000430</td>\n",
       "      <td>-0.010329</td>\n",
       "      <td>0.000726</td>\n",
       "      <td>-0.002915</td>\n",
       "    </tr>\n",
       "    <tr>\n",
       "      <th>2023-10-02</th>\n",
       "      <td>-0.000398</td>\n",
       "      <td>-0.006893</td>\n",
       "      <td>-0.010554</td>\n",
       "      <td>0.008311</td>\n",
       "      <td>-0.001319</td>\n",
       "    </tr>\n",
       "    <tr>\n",
       "      <th>2023-10-03</th>\n",
       "      <td>-0.013476</td>\n",
       "      <td>-0.008136</td>\n",
       "      <td>-0.002892</td>\n",
       "      <td>-0.017705</td>\n",
       "      <td>-0.014626</td>\n",
       "    </tr>\n",
       "    <tr>\n",
       "      <th>2023-10-04</th>\n",
       "      <td>0.007256</td>\n",
       "      <td>0.006543</td>\n",
       "      <td>-0.000118</td>\n",
       "      <td>0.013517</td>\n",
       "      <td>0.007197</td>\n",
       "    </tr>\n",
       "  </tbody>\n",
       "</table>\n",
       "<p>3772 rows × 5 columns</p>\n",
       "</div>"
      ],
      "text/plain": [
       "                 SPY       BND       GLD       QQQ       VTI\n",
       "Date                                                        \n",
       "2008-10-09 -0.072398 -0.031645  0.005354 -0.027227 -0.064853\n",
       "2008-10-10 -0.024555 -0.030962 -0.077210 -0.006366 -0.029329\n",
       "2008-10-13  0.135577  0.040753 -0.014890  0.114799  0.120710\n",
       "2008-10-14 -0.014911  0.012682  0.002558 -0.044232 -0.008631\n",
       "2008-10-15 -0.103637 -0.006116  0.013413 -0.093823 -0.098197\n",
       "...              ...       ...       ...       ...       ...\n",
       "2023-09-28  0.005781  0.002582 -0.005010  0.008330  0.006594\n",
       "2023-09-29 -0.002430 -0.000430 -0.010329  0.000726 -0.002915\n",
       "2023-10-02 -0.000398 -0.006893 -0.010554  0.008311 -0.001319\n",
       "2023-10-03 -0.013476 -0.008136 -0.002892 -0.017705 -0.014626\n",
       "2023-10-04  0.007256  0.006543 -0.000118  0.013517  0.007197\n",
       "\n",
       "[3772 rows x 5 columns]"
      ]
     },
     "execution_count": 8,
     "metadata": {},
     "output_type": "execute_result"
    }
   ],
   "source": [
    "log_returns"
   ]
  },
  {
   "cell_type": "code",
   "execution_count": 9,
   "metadata": {},
   "outputs": [
    {
     "name": "stdout",
     "output_type": "stream",
     "text": [
      "[0.2 0.2 0.2 0.2 0.2]\n"
     ]
    }
   ],
   "source": [
    "#Create equally weighted portfolio\n",
    "\n",
    "port_val = 10000000\n",
    "weights = np.array([1/len(tickers)] *len(tickers))\n",
    "print(weights)"
   ]
  },
  {
   "cell_type": "code",
   "execution_count": 12,
   "metadata": {},
   "outputs": [
    {
     "name": "stdout",
     "output_type": "stream",
     "text": [
      "Date\n",
      "2008-10-09   -0.038154\n",
      "2008-10-10   -0.033684\n",
      "2008-10-13    0.079390\n",
      "2008-10-14   -0.010507\n",
      "2008-10-15   -0.057672\n",
      "                ...   \n",
      "2023-09-28    0.003655\n",
      "2023-09-29   -0.003075\n",
      "2023-10-02   -0.002171\n",
      "2023-10-03   -0.011367\n",
      "2023-10-04    0.006879\n",
      "Length: 3772, dtype: float64\n"
     ]
    }
   ],
   "source": [
    "#Historical Portfolio Return \n",
    "\n",
    "hist_return = (log_returns*weights).sum(axis=1)\n",
    "\n",
    "print(hist_return)"
   ]
  },
  {
   "cell_type": "code",
   "execution_count": 13,
   "metadata": {},
   "outputs": [
    {
     "name": "stdout",
     "output_type": "stream",
     "text": [
      "Date\n",
      "2008-10-15   -0.060627\n",
      "2008-10-16   -0.004663\n",
      "2008-10-17    0.021963\n",
      "2008-10-20   -0.027026\n",
      "2008-10-21   -0.042360\n",
      "                ...   \n",
      "2023-09-28   -0.008790\n",
      "2023-09-29   -0.012486\n",
      "2023-10-02   -0.014733\n",
      "2023-10-03   -0.015407\n",
      "2023-10-04   -0.006079\n",
      "Length: 3768, dtype: float64\n"
     ]
    }
   ],
   "source": [
    "#Find X-Day historical return \n",
    "\n",
    "days = 5\n",
    "\n",
    "range_return = hist_return.rolling(window = days).sum()\n",
    "range_return = range_return.dropna()\n",
    "print(range_return)"
   ]
  },
  {
   "cell_type": "code",
   "execution_count": 15,
   "metadata": {},
   "outputs": [
    {
     "name": "stdout",
     "output_type": "stream",
     "text": [
      "261769.78098932395\n"
     ]
    }
   ],
   "source": [
    "#Specify confidence level and calculate VaR\n",
    "\n",
    "confidence_internal = 0.95\n",
    "\n",
    "VaR = -np.percentile(range_return, 100 - (confidence_internal * 100 )) * port_val\n",
    "\n",
    "print(VaR)"
   ]
  },
  {
   "cell_type": "code",
   "execution_count": 16,
   "metadata": {},
   "outputs": [],
   "source": [
    "#For a 5 day period at 95% confidence level we lose  approx $261769"
   ]
  },
  {
   "cell_type": "code",
   "execution_count": 20,
   "metadata": {},
   "outputs": [
    {
     "data": {
      "image/png": "[encoded data removed]",
      "text/plain": [
       "<Figure size 640x480 with 1 Axes>"
      ]
     },
     "metadata": {},
     "output_type": "display_data"
    }
   ],
   "source": [
    "return_window = days\n",
    "range_return_dollar = range_return * port_val\n",
    "\n",
    "plt.hist(range_return_dollar.dropna(), bins=50, density=True)\n",
    "plt.xlabel(f'{return_window} - Day Portfolio Return (Dollar Value)')\n",
    "plt.ylabel('Frequency')\n",
    "plt.title(f'Distribution of Portfolio {return_window} - Day Returns (Dollar Value)')\n",
    "plt.axvline(-VaR, color='r', linestyle='dashed', linewidth=2, label=f'VaR at {confidence_internal:.0%} confidence level')\n",
    "plt.legend()\n",
    "plt.show()\n"
   ]
  },
  {
   "cell_type": "code",
   "execution_count": null,
   "metadata": {},
   "outputs": [],
   "source": []
  }
 ],
 "metadata": {
  "kernelspec": {
   "display_name": "Python 3",
   "language": "python",
   "name": "python3"
  },
  "language_info": {
   "codemirror_mode": {
    "name": "ipython",
    "version": 3
   },
   "file_extension": ".py",
   "mimetype": "text/x-python",
   "name": "python",
   "nbconvert_exporter": "python",
   "pygments_lexer": "ipython3",
   "version": "3.11.6"
  }
 },
 "nbformat": 4,
 "nbformat_minor": 2
}
