{
 "cells": [
  {
   "cell_type": "code",
   "execution_count": 1,
   "metadata": {},
   "outputs": [],
   "source": [
    "import numpy as np\n",
    "import pandas as pd\n",
    "import yfinance as yf\n",
    "import datetime as dt\n",
    "import matplotlib.pyplot as plt\n",
    "from scipy.stats import norm "
   ]
  },
  {
   "cell_type": "code",
   "execution_count": 2,
   "metadata": {},
   "outputs": [],
   "source": [
    "years = 15 \n",
    "\n",
    "endDate = dt.datetime.now()\n",
    "\n",
    "startDate = endDate - dt.timedelta(days = 365*years)"
   ]
  },
  {
   "cell_type": "code",
   "execution_count": 3,
   "metadata": {},
   "outputs": [],
   "source": [
    "tickers = ['SPY', 'BND', 'GLD', 'QQQ', 'VTI']\n"
   ]
  },
  {
   "cell_type": "code",
   "execution_count": 4,
   "metadata": {},
   "outputs": [
    {
     "name": "stdout",
     "output_type": "stream",
     "text": [
      "[*********************100%%**********************]  1 of 1 completed\n",
      "[*********************100%%**********************]  1 of 1 completed\n",
      "[*********************100%%**********************]  1 of 1 completed\n",
      "[*********************100%%**********************]  1 of 1 completed\n",
      "[*********************100%%**********************]  1 of 1 completed\n"
     ]
    }
   ],
   "source": [
    "#Download adjusted close prices\n",
    "\n",
    "adj_close_df = pd.DataFrame()\n",
    "\n",
    "for t in tickers:\n",
    "    data = yf.download(t, start= startDate, end= endDate)\n",
    "    adj_close_df[t] =  data['Adj Close']"
   ]
  },
  {
   "cell_type": "code",
   "execution_count": 5,
   "metadata": {},
   "outputs": [
    {
     "name": "stdout",
     "output_type": "stream",
     "text": [
      "                   SPY        BND         GLD         QQQ         VTI\n",
      "Date                                                                 \n",
      "2008-10-08   72.975693  48.154274   89.419998   28.333387   36.723778\n",
      "2008-10-09   67.879166  46.654327   89.900002   27.572340   34.417698\n",
      "2008-10-10   66.232697  45.231915   83.220001   27.397387   33.422924\n",
      "2008-10-13   75.849533  47.113346   81.989998   30.730217   37.711002\n",
      "2008-10-14   74.726944  47.714630   82.199997   29.400589   37.386955\n",
      "...                ...        ...         ...         ...         ...\n",
      "2023-09-29  427.480011  69.587997  171.449997  358.269989  212.410004\n",
      "2023-10-02  427.309998  69.110001  169.649994  361.260010  212.130005\n",
      "2023-10-03  421.589996  68.550003  169.160004  354.920013  209.050003\n",
      "2023-10-04  424.660004  69.000000  169.139999  359.750000  210.559998\n",
      "2023-10-05  424.855011  69.099998  168.767700  359.739990  210.620102\n",
      "\n",
      "[3774 rows x 5 columns]\n"
     ]
    }
   ],
   "source": [
    "print(adj_close_df)"
   ]
  },
  {
   "cell_type": "code",
   "execution_count": 6,
   "metadata": {},
   "outputs": [],
   "source": [
    "#Calculate daily log returns and drop NA\n",
    "#Drop NA as first row will be null\n",
    "\n",
    "log_returns = np.log(adj_close_df/adj_close_df.shift(1))\n",
    "\n",
    "log_returns = log_returns.dropna()"
   ]
  },
  {
   "cell_type": "code",
   "execution_count": 7,
   "metadata": {},
   "outputs": [
    {
     "data": {
      "text/html": [
       "<div>\n",
       "<style scoped>\n",
       "    .dataframe tbody tr th:only-of-type {\n",
       "        vertical-align: middle;\n",
       "    }\n",
       "\n",
       "    .dataframe tbody tr th {\n",
       "        vertical-align: top;\n",
       "    }\n",
       "\n",
       "    .dataframe thead th {\n",
       "        text-align: right;\n",
       "    }\n",
       "</style>\n",
       "<table border=\"1\" class=\"dataframe\">\n",
       "  <thead>\n",
       "    <tr style=\"text-align: right;\">\n",
       "      <th></th>\n",
       "      <th>SPY</th>\n",
       "      <th>BND</th>\n",
       "      <th>GLD</th>\n",
       "      <th>QQQ</th>\n",
       "      <th>VTI</th>\n",
       "    </tr>\n",
       "    <tr>\n",
       "      <th>Date</th>\n",
       "      <th></th>\n",
       "      <th></th>\n",
       "      <th></th>\n",
       "      <th></th>\n",
       "      <th></th>\n",
       "    </tr>\n",
       "  </thead>\n",
       "  <tbody>\n",
       "    <tr>\n",
       "      <th>2008-10-09</th>\n",
       "      <td>-0.072397</td>\n",
       "      <td>-0.031644</td>\n",
       "      <td>0.005354</td>\n",
       "      <td>-0.027228</td>\n",
       "      <td>-0.064854</td>\n",
       "    </tr>\n",
       "    <tr>\n",
       "      <th>2008-10-10</th>\n",
       "      <td>-0.024555</td>\n",
       "      <td>-0.030963</td>\n",
       "      <td>-0.077210</td>\n",
       "      <td>-0.006365</td>\n",
       "      <td>-0.029329</td>\n",
       "    </tr>\n",
       "    <tr>\n",
       "      <th>2008-10-13</th>\n",
       "      <td>0.135577</td>\n",
       "      <td>0.040753</td>\n",
       "      <td>-0.014890</td>\n",
       "      <td>0.114799</td>\n",
       "      <td>0.120710</td>\n",
       "    </tr>\n",
       "    <tr>\n",
       "      <th>2008-10-14</th>\n",
       "      <td>-0.014911</td>\n",
       "      <td>0.012682</td>\n",
       "      <td>0.002558</td>\n",
       "      <td>-0.044232</td>\n",
       "      <td>-0.008630</td>\n",
       "    </tr>\n",
       "    <tr>\n",
       "      <th>2008-10-15</th>\n",
       "      <td>-0.103637</td>\n",
       "      <td>-0.006116</td>\n",
       "      <td>0.013413</td>\n",
       "      <td>-0.093824</td>\n",
       "      <td>-0.098197</td>\n",
       "    </tr>\n",
       "    <tr>\n",
       "      <th>...</th>\n",
       "      <td>...</td>\n",
       "      <td>...</td>\n",
       "      <td>...</td>\n",
       "      <td>...</td>\n",
       "      <td>...</td>\n",
       "    </tr>\n",
       "    <tr>\n",
       "      <th>2023-09-29</th>\n",
       "      <td>-0.002430</td>\n",
       "      <td>-0.000430</td>\n",
       "      <td>-0.010329</td>\n",
       "      <td>0.000726</td>\n",
       "      <td>-0.002915</td>\n",
       "    </tr>\n",
       "    <tr>\n",
       "      <th>2023-10-02</th>\n",
       "      <td>-0.000398</td>\n",
       "      <td>-0.006893</td>\n",
       "      <td>-0.010554</td>\n",
       "      <td>0.008311</td>\n",
       "      <td>-0.001319</td>\n",
       "    </tr>\n",
       "    <tr>\n",
       "      <th>2023-10-03</th>\n",
       "      <td>-0.013476</td>\n",
       "      <td>-0.008136</td>\n",
       "      <td>-0.002892</td>\n",
       "      <td>-0.017705</td>\n",
       "      <td>-0.014626</td>\n",
       "    </tr>\n",
       "    <tr>\n",
       "      <th>2023-10-04</th>\n",
       "      <td>0.007256</td>\n",
       "      <td>0.006543</td>\n",
       "      <td>-0.000118</td>\n",
       "      <td>0.013517</td>\n",
       "      <td>0.007197</td>\n",
       "    </tr>\n",
       "    <tr>\n",
       "      <th>2023-10-05</th>\n",
       "      <td>0.000459</td>\n",
       "      <td>0.001448</td>\n",
       "      <td>-0.002204</td>\n",
       "      <td>-0.000028</td>\n",
       "      <td>0.000285</td>\n",
       "    </tr>\n",
       "  </tbody>\n",
       "</table>\n",
       "<p>3773 rows × 5 columns</p>\n",
       "</div>"
      ],
      "text/plain": [
       "                 SPY       BND       GLD       QQQ       VTI\n",
       "Date                                                        \n",
       "2008-10-09 -0.072397 -0.031644  0.005354 -0.027228 -0.064854\n",
       "2008-10-10 -0.024555 -0.030963 -0.077210 -0.006365 -0.029329\n",
       "2008-10-13  0.135577  0.040753 -0.014890  0.114799  0.120710\n",
       "2008-10-14 -0.014911  0.012682  0.002558 -0.044232 -0.008630\n",
       "2008-10-15 -0.103637 -0.006116  0.013413 -0.093824 -0.098197\n",
       "...              ...       ...       ...       ...       ...\n",
       "2023-09-29 -0.002430 -0.000430 -0.010329  0.000726 -0.002915\n",
       "2023-10-02 -0.000398 -0.006893 -0.010554  0.008311 -0.001319\n",
       "2023-10-03 -0.013476 -0.008136 -0.002892 -0.017705 -0.014626\n",
       "2023-10-04  0.007256  0.006543 -0.000118  0.013517  0.007197\n",
       "2023-10-05  0.000459  0.001448 -0.002204 -0.000028  0.000285\n",
       "\n",
       "[3773 rows x 5 columns]"
      ]
     },
     "execution_count": 7,
     "metadata": {},
     "output_type": "execute_result"
    }
   ],
   "source": [
    "log_returns"
   ]
  },
  {
   "cell_type": "code",
   "execution_count": 9,
   "metadata": {},
   "outputs": [
    {
     "name": "stdout",
     "output_type": "stream",
     "text": [
      "[0.2 0.2 0.2 0.2 0.2]\n"
     ]
    }
   ],
   "source": [
    "#Create equally weighted portfolio\n",
    "\n",
    "port_val = 10000000\n",
    "weights = np.array([1/len(tickers)] *len(tickers))\n",
    "print(weights)"
   ]
  },
  {
   "cell_type": "code",
   "execution_count": 10,
   "metadata": {},
   "outputs": [
    {
     "name": "stdout",
     "output_type": "stream",
     "text": [
      "Date\n",
      "2008-10-09   -0.038154\n",
      "2008-10-10   -0.033684\n",
      "2008-10-13    0.079390\n",
      "2008-10-14   -0.010507\n",
      "2008-10-15   -0.057672\n",
      "                ...   \n",
      "2023-09-29   -0.003075\n",
      "2023-10-02   -0.002171\n",
      "2023-10-03   -0.011367\n",
      "2023-10-04    0.006879\n",
      "2023-10-05   -0.000008\n",
      "Length: 3773, dtype: float64\n"
     ]
    }
   ],
   "source": [
    "#Historical Portfolio Return \n",
    "\n",
    "hist_return = (log_returns*weights).sum(axis=1)\n",
    "\n",
    "print(hist_return)"
   ]
  },
  {
   "cell_type": "code",
   "execution_count": 11,
   "metadata": {},
   "outputs": [
    {
     "name": "stdout",
     "output_type": "stream",
     "text": [
      "Date\n",
      "2008-10-15   -0.060627\n",
      "2008-10-16   -0.004663\n",
      "2008-10-17    0.021963\n",
      "2008-10-20   -0.027026\n",
      "2008-10-21   -0.042360\n",
      "                ...   \n",
      "2023-09-29   -0.012486\n",
      "2023-10-02   -0.014733\n",
      "2023-10-03   -0.015407\n",
      "2023-10-04   -0.006079\n",
      "2023-10-05   -0.009742\n",
      "Length: 3769, dtype: float64\n"
     ]
    }
   ],
   "source": [
    "#Find X-Day historical return \n",
    "\n",
    "days = 5\n",
    "\n",
    "historical_x_day_return = hist_return.rolling(window = days).sum()\n",
    "historical_x_day_return = historical_x_day_return.dropna()\n",
    "print(historical_x_day_return)"
   ]
  },
  {
   "cell_type": "code",
   "execution_count": 12,
   "metadata": {},
   "outputs": [
    {
     "data": {
      "text/html": [
       "<div>\n",
       "<style scoped>\n",
       "    .dataframe tbody tr th:only-of-type {\n",
       "        vertical-align: middle;\n",
       "    }\n",
       "\n",
       "    .dataframe tbody tr th {\n",
       "        vertical-align: top;\n",
       "    }\n",
       "\n",
       "    .dataframe thead th {\n",
       "        text-align: right;\n",
       "    }\n",
       "</style>\n",
       "<table border=\"1\" class=\"dataframe\">\n",
       "  <thead>\n",
       "    <tr style=\"text-align: right;\">\n",
       "      <th></th>\n",
       "      <th>SPY</th>\n",
       "      <th>BND</th>\n",
       "      <th>GLD</th>\n",
       "      <th>QQQ</th>\n",
       "      <th>VTI</th>\n",
       "    </tr>\n",
       "  </thead>\n",
       "  <tbody>\n",
       "    <tr>\n",
       "      <th>SPY</th>\n",
       "      <td>0.040485</td>\n",
       "      <td>0.000153</td>\n",
       "      <td>0.002678</td>\n",
       "      <td>0.041632</td>\n",
       "      <td>0.040725</td>\n",
       "    </tr>\n",
       "    <tr>\n",
       "      <th>BND</th>\n",
       "      <td>0.000153</td>\n",
       "      <td>0.002628</td>\n",
       "      <td>0.002193</td>\n",
       "      <td>0.000101</td>\n",
       "      <td>0.000143</td>\n",
       "    </tr>\n",
       "    <tr>\n",
       "      <th>GLD</th>\n",
       "      <td>0.002678</td>\n",
       "      <td>0.002193</td>\n",
       "      <td>0.027817</td>\n",
       "      <td>0.002526</td>\n",
       "      <td>0.002870</td>\n",
       "    </tr>\n",
       "    <tr>\n",
       "      <th>QQQ</th>\n",
       "      <td>0.041632</td>\n",
       "      <td>0.000101</td>\n",
       "      <td>0.002526</td>\n",
       "      <td>0.049863</td>\n",
       "      <td>0.042129</td>\n",
       "    </tr>\n",
       "    <tr>\n",
       "      <th>VTI</th>\n",
       "      <td>0.040725</td>\n",
       "      <td>0.000143</td>\n",
       "      <td>0.002870</td>\n",
       "      <td>0.042129</td>\n",
       "      <td>0.041394</td>\n",
       "    </tr>\n",
       "  </tbody>\n",
       "</table>\n",
       "</div>"
      ],
      "text/plain": [
       "          SPY       BND       GLD       QQQ       VTI\n",
       "SPY  0.040485  0.000153  0.002678  0.041632  0.040725\n",
       "BND  0.000153  0.002628  0.002193  0.000101  0.000143\n",
       "GLD  0.002678  0.002193  0.027817  0.002526  0.002870\n",
       "QQQ  0.041632  0.000101  0.002526  0.049863  0.042129\n",
       "VTI  0.040725  0.000143  0.002870  0.042129  0.041394"
      ]
     },
     "execution_count": 12,
     "metadata": {},
     "output_type": "execute_result"
    }
   ],
   "source": [
    "cov_matrix = log_returns.cov() * 252\n",
    "#annualised\n",
    "cov_matrix"
   ]
  },
  {
   "cell_type": "code",
   "execution_count": 13,
   "metadata": {},
   "outputs": [
    {
     "data": {
      "text/plain": [
       "0.13152800321197333"
      ]
     },
     "execution_count": 13,
     "metadata": {},
     "output_type": "execute_result"
    }
   ],
   "source": [
    "portfolio_std_dev = np.sqrt(weights.T @ cov_matrix @ weights)\n",
    "\n",
    "portfolio_std_dev"
   ]
  },
  {
   "cell_type": "code",
   "execution_count": 14,
   "metadata": {},
   "outputs": [],
   "source": [
    "#Setting Confidence Level \n",
    "\n",
    "confidence_levels = [0.9,0.95,0.99]"
   ]
  },
  {
   "cell_type": "code",
   "execution_count": 17,
   "metadata": {},
   "outputs": [],
   "source": [
    "#Calculate VaR at various levels\n",
    "\n",
    "VaRs = []\n",
    "\n",
    "for cl in confidence_levels:\n",
    "    VaR = port_val * portfolio_std_dev * norm.ppf(cl) * np.sqrt(days/252)\n",
    "    VaRs.append(VaR)"
   ]
  },
  {
   "cell_type": "code",
   "execution_count": 18,
   "metadata": {},
   "outputs": [
    {
     "name": "stdout",
     "output_type": "stream",
     "text": [
      "[237431.88706196746, 304740.5278786794, 431000.3440722965]\n"
     ]
    }
   ],
   "source": [
    "print(VaRs)"
   ]
  },
  {
   "cell_type": "code",
   "execution_count": 21,
   "metadata": {},
   "outputs": [
    {
     "name": "stdout",
     "output_type": "stream",
     "text": [
      "Confidence Level     Value at Risk        \n",
      "----------------------------------------\n",
      "    90%:          $237,431.89\n",
      "    95%:          $304,740.53\n",
      "    99%:          $431,000.34\n"
     ]
    }
   ],
   "source": [
    "print(f'{\"Confidence Level\":<20} {\"Value at Risk\":<20} ')\n",
    "print('-' * 40)\n",
    "\n",
    "#Print each confidence level and it's corresponding VaR Value\n",
    "\n",
    "\n",
    "for cl, VaR in zip(confidence_levels, VaRs):\n",
    "    print(f'{cl * 100:>6.0f}%: {\"\":<8} ${VaR:>,.2f}')\n"
   ]
  },
  {
   "cell_type": "code",
   "execution_count": 23,
   "metadata": {},
   "outputs": [
    {
     "data": {
      "image/png": "[encoded data removed]",
      "text/plain": [
       "<Figure size 640x480 with 1 Axes>"
      ]
     },
     "metadata": {},
     "output_type": "display_data"
    }
   ],
   "source": [
    "#Set labels title and legends\n",
    "# Convert returns to dollar values for the histogram\n",
    "\n",
    "historical_x_day_return_dollar = historical_x_day_return * port_val\n",
    "\n",
    "# Plot the histogram\n",
    "\n",
    "plt.hist(historical_x_day_return_dollar, bins=50, density=True, alpha=0.5, label=f' (days)-Day Returns')\n",
    "\n",
    "# Add vertical lines representing VaR at each confidence level\n",
    "\n",
    "for cl, VaR in zip (confidence_levels, VaRs):\n",
    "    plt.axvline(x = -VaR, linestyle = '--', color = 'r', label = 'VaR at {}% Confidence'.format(int(cl * 100)))\n",
    "\n",
    "plt.xlabel(f' {days} - Day Portfolio Return ($)')\n",
    "\n",
    "plt.ylabel('Frequency')\n",
    "\n",
    "plt.title(f'Distribution of Portfolio {days} - Day Returns and Parametric VaR Estimates')\n",
    "\n",
    "plt.legend()\n",
    "\n",
    "plt.show()\n",
    "\n",
    "\n"
   ]
  },
  {
   "cell_type": "code",
   "execution_count": null,
   "metadata": {},
   "outputs": [],
   "source": []
  }
 ],
 "metadata": {
  "kernelspec": {
   "display_name": "Python 3",
   "language": "python",
   "name": "python3"
  },
  "language_info": {
   "codemirror_mode": {
    "name": "ipython",
    "version": 3
   },
   "file_extension": ".py",
   "mimetype": "text/x-python",
   "name": "python",
   "nbconvert_exporter": "python",
   "pygments_lexer": "ipython3",
   "version": "3.11.6"
  }
 },
 "nbformat": 4,
 "nbformat_minor": 2
}
