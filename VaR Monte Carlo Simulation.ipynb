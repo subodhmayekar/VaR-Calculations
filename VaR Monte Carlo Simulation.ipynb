{
 "cells": [
  {
   "cell_type": "code",
   "execution_count": 1,
   "metadata": {},
   "outputs": [],
   "source": [
    "import numpy as np\n",
    "import pandas as pd\n",
    "import yfinance as yf\n",
    "import datetime as dt\n",
    "import matplotlib.pyplot as plt\n",
    "from scipy.stats import norm "
   ]
  },
  {
   "cell_type": "code",
   "execution_count": 2,
   "metadata": {},
   "outputs": [],
   "source": [
    "years = 15 \n",
    "\n",
    "endDate = dt.datetime.now()\n",
    "\n",
    "startDate = endDate - dt.timedelta(days = 365*years)"
   ]
  },
  {
   "cell_type": "code",
   "execution_count": 3,
   "metadata": {},
   "outputs": [],
   "source": [
    "tickers = ['SPY', 'BND', 'GLD', 'QQQ', 'VTI']\n"
   ]
  },
  {
   "cell_type": "code",
   "execution_count": 4,
   "metadata": {},
   "outputs": [
    {
     "name": "stdout",
     "output_type": "stream",
     "text": [
      "[*********************100%%**********************]  1 of 1 completed\n",
      "[*********************100%%**********************]  1 of 1 completed\n",
      "[*********************100%%**********************]  1 of 1 completed\n",
      "[*********************100%%**********************]  1 of 1 completed\n",
      "[*********************100%%**********************]  1 of 1 completed\n"
     ]
    }
   ],
   "source": [
    "#Download adjusted close prices\n",
    "\n",
    "adj_close_df = pd.DataFrame()\n",
    "\n",
    "for t in tickers:\n",
    "    data = yf.download(t, start= startDate, end= endDate)\n",
    "    adj_close_df[t] =  data['Adj Close']"
   ]
  },
  {
   "cell_type": "code",
   "execution_count": 5,
   "metadata": {},
   "outputs": [
    {
     "name": "stdout",
     "output_type": "stream",
     "text": [
      "                   SPY        BND         GLD         QQQ         VTI\n",
      "Date                                                                 \n",
      "2008-10-08   72.975723  48.154270   89.419998   28.333376   36.723766\n",
      "2008-10-09   67.879158  46.654274   89.900002   27.572346   34.417702\n",
      "2008-10-10   66.232712  45.231926   83.220001   27.397394   33.422916\n",
      "2008-10-13   75.849525  47.113384   81.989998   30.730213   37.711014\n",
      "2008-10-14   74.726959  47.714626   82.199997   29.400581   37.386948\n",
      "...                ...        ...         ...         ...         ...\n",
      "2023-09-29  427.480011  69.587997  171.449997  358.269989  212.410004\n",
      "2023-10-02  427.309998  69.110001  169.649994  361.260010  212.130005\n",
      "2023-10-03  421.589996  68.550003  169.160004  354.920013  209.050003\n",
      "2023-10-04  424.660004  69.000000  169.139999  359.750000  210.559998\n",
      "2023-10-05  422.500000  69.079201  168.570007  357.000488  209.419296\n",
      "\n",
      "[3774 rows x 5 columns]\n"
     ]
    }
   ],
   "source": [
    "print(adj_close_df)"
   ]
  },
  {
   "cell_type": "code",
   "execution_count": 6,
   "metadata": {},
   "outputs": [],
   "source": [
    "#Calculate daily log returns and drop NA\n",
    "#Drop NA as first row will be null\n",
    "\n",
    "log_returns = np.log(adj_close_df/adj_close_df.shift(1))\n",
    "\n",
    "log_returns = log_returns.dropna()"
   ]
  },
  {
   "cell_type": "code",
   "execution_count": 7,
   "metadata": {},
   "outputs": [
    {
     "data": {
      "text/html": [
       "<div>\n",
       "<style scoped>\n",
       "    .dataframe tbody tr th:only-of-type {\n",
       "        vertical-align: middle;\n",
       "    }\n",
       "\n",
       "    .dataframe tbody tr th {\n",
       "        vertical-align: top;\n",
       "    }\n",
       "\n",
       "    .dataframe thead th {\n",
       "        text-align: right;\n",
       "    }\n",
       "</style>\n",
       "<table border=\"1\" class=\"dataframe\">\n",
       "  <thead>\n",
       "    <tr style=\"text-align: right;\">\n",
       "      <th></th>\n",
       "      <th>SPY</th>\n",
       "      <th>BND</th>\n",
       "      <th>GLD</th>\n",
       "      <th>QQQ</th>\n",
       "      <th>VTI</th>\n",
       "    </tr>\n",
       "    <tr>\n",
       "      <th>Date</th>\n",
       "      <th></th>\n",
       "      <th></th>\n",
       "      <th></th>\n",
       "      <th></th>\n",
       "      <th></th>\n",
       "    </tr>\n",
       "  </thead>\n",
       "  <tbody>\n",
       "    <tr>\n",
       "      <th>2008-10-09</th>\n",
       "      <td>-0.072398</td>\n",
       "      <td>-0.031645</td>\n",
       "      <td>0.005354</td>\n",
       "      <td>-0.027227</td>\n",
       "      <td>-0.064853</td>\n",
       "    </tr>\n",
       "    <tr>\n",
       "      <th>2008-10-10</th>\n",
       "      <td>-0.024555</td>\n",
       "      <td>-0.030961</td>\n",
       "      <td>-0.077210</td>\n",
       "      <td>-0.006365</td>\n",
       "      <td>-0.029329</td>\n",
       "    </tr>\n",
       "    <tr>\n",
       "      <th>2008-10-13</th>\n",
       "      <td>0.135577</td>\n",
       "      <td>0.040754</td>\n",
       "      <td>-0.014890</td>\n",
       "      <td>0.114798</td>\n",
       "      <td>0.120710</td>\n",
       "    </tr>\n",
       "    <tr>\n",
       "      <th>2008-10-14</th>\n",
       "      <td>-0.014911</td>\n",
       "      <td>0.012681</td>\n",
       "      <td>0.002558</td>\n",
       "      <td>-0.044232</td>\n",
       "      <td>-0.008631</td>\n",
       "    </tr>\n",
       "    <tr>\n",
       "      <th>2008-10-15</th>\n",
       "      <td>-0.103637</td>\n",
       "      <td>-0.006116</td>\n",
       "      <td>0.013413</td>\n",
       "      <td>-0.093823</td>\n",
       "      <td>-0.098197</td>\n",
       "    </tr>\n",
       "    <tr>\n",
       "      <th>...</th>\n",
       "      <td>...</td>\n",
       "      <td>...</td>\n",
       "      <td>...</td>\n",
       "      <td>...</td>\n",
       "      <td>...</td>\n",
       "    </tr>\n",
       "    <tr>\n",
       "      <th>2023-09-29</th>\n",
       "      <td>-0.002430</td>\n",
       "      <td>-0.000430</td>\n",
       "      <td>-0.010329</td>\n",
       "      <td>0.000726</td>\n",
       "      <td>-0.002915</td>\n",
       "    </tr>\n",
       "    <tr>\n",
       "      <th>2023-10-02</th>\n",
       "      <td>-0.000398</td>\n",
       "      <td>-0.006893</td>\n",
       "      <td>-0.010554</td>\n",
       "      <td>0.008311</td>\n",
       "      <td>-0.001319</td>\n",
       "    </tr>\n",
       "    <tr>\n",
       "      <th>2023-10-03</th>\n",
       "      <td>-0.013476</td>\n",
       "      <td>-0.008136</td>\n",
       "      <td>-0.002892</td>\n",
       "      <td>-0.017705</td>\n",
       "      <td>-0.014626</td>\n",
       "    </tr>\n",
       "    <tr>\n",
       "      <th>2023-10-04</th>\n",
       "      <td>0.007256</td>\n",
       "      <td>0.006543</td>\n",
       "      <td>-0.000118</td>\n",
       "      <td>0.013517</td>\n",
       "      <td>0.007197</td>\n",
       "    </tr>\n",
       "    <tr>\n",
       "      <th>2023-10-05</th>\n",
       "      <td>-0.005099</td>\n",
       "      <td>0.001147</td>\n",
       "      <td>-0.003376</td>\n",
       "      <td>-0.007672</td>\n",
       "      <td>-0.005432</td>\n",
       "    </tr>\n",
       "  </tbody>\n",
       "</table>\n",
       "<p>3773 rows × 5 columns</p>\n",
       "</div>"
      ],
      "text/plain": [
       "                 SPY       BND       GLD       QQQ       VTI\n",
       "Date                                                        \n",
       "2008-10-09 -0.072398 -0.031645  0.005354 -0.027227 -0.064853\n",
       "2008-10-10 -0.024555 -0.030961 -0.077210 -0.006365 -0.029329\n",
       "2008-10-13  0.135577  0.040754 -0.014890  0.114798  0.120710\n",
       "2008-10-14 -0.014911  0.012681  0.002558 -0.044232 -0.008631\n",
       "2008-10-15 -0.103637 -0.006116  0.013413 -0.093823 -0.098197\n",
       "...              ...       ...       ...       ...       ...\n",
       "2023-09-29 -0.002430 -0.000430 -0.010329  0.000726 -0.002915\n",
       "2023-10-02 -0.000398 -0.006893 -0.010554  0.008311 -0.001319\n",
       "2023-10-03 -0.013476 -0.008136 -0.002892 -0.017705 -0.014626\n",
       "2023-10-04  0.007256  0.006543 -0.000118  0.013517  0.007197\n",
       "2023-10-05 -0.005099  0.001147 -0.003376 -0.007672 -0.005432\n",
       "\n",
       "[3773 rows x 5 columns]"
      ]
     },
     "execution_count": 7,
     "metadata": {},
     "output_type": "execute_result"
    }
   ],
   "source": [
    "log_returns"
   ]
  },
  {
   "cell_type": "code",
   "execution_count": 8,
   "metadata": {},
   "outputs": [],
   "source": [
    "### Create a function that will be used to calculate portfolio expected return\n",
    "#We are assuming that future returns are based on past returns, which is not a reliable assumption.\n",
    "def expected_return(weights, log_returns):\n",
    "    return np.sum(log_returns.mean()*weights)\n",
    "\n",
    "### Create a function that will be used to calculate portfolio standard deviation\n",
    "def standard_deviation (weights, cov_matrix):\n",
    "    variance = weights.T @ cov_matrix @ weights\n",
    "    return np.sqrt(variance)"
   ]
  },
  {
   "cell_type": "code",
   "execution_count": 9,
   "metadata": {},
   "outputs": [
    {
     "name": "stdout",
     "output_type": "stream",
     "text": [
      "              SPY           BND       GLD           QQQ           VTI\n",
      "SPY  1.606648e-04  6.068687e-07  0.000011  1.652181e-04  1.616179e-04\n",
      "BND  6.068687e-07  1.042667e-05  0.000009  3.997657e-07  5.678233e-07\n",
      "GLD  1.063265e-05  8.701201e-06  0.000110  1.003227e-05  1.139557e-05\n",
      "QQQ  1.652181e-04  3.997657e-07  0.000010  1.978876e-04  1.671901e-04\n",
      "VTI  1.616179e-04  5.678233e-07  0.000011  1.671901e-04  1.642720e-04\n"
     ]
    }
   ],
   "source": [
    "### Create a covariance matrix for all the securities\n",
    "cov_matrix = log_returns.cov()\n",
    "print(cov_matrix)"
   ]
  },
  {
   "cell_type": "code",
   "execution_count": 10,
   "metadata": {},
   "outputs": [],
   "source": [
    "### Create an equally weighted portfolio and find total portfolio expected return and standard deviation\n",
    "portfolio_value = 1000000\n",
    "weights = np.array([1/len(tickers)]*len(tickers))\n",
    "portfolio_expected_return = expected_return(weights, log_returns)\n",
    "portfolio_std_dev = standard_deviation (weights, cov_matrix)"
   ]
  },
  {
   "cell_type": "code",
   "execution_count": 11,
   "metadata": {},
   "outputs": [],
   "source": [
    "def random_z_score():\n",
    "    return np.random.normal(0, 1)\n",
    "\n",
    "### Create a function to calculate scenarioGainLoss\n",
    "days = 20\n",
    "\n",
    "def scenario_gain_loss(portfolio_value, portfolio_std_dev, z_score, days):\n",
    "    return portfolio_value * portfolio_expected_return * days + portfolio_value * portfolio_std_dev * z_score * np.sqrt(days)"
   ]
  },
  {
   "cell_type": "code",
   "execution_count": 12,
   "metadata": {},
   "outputs": [],
   "source": [
    "### Run 10000 simulations\n",
    "simulations = 10000\n",
    "scenarioReturn = []\n",
    "\n",
    "for i in range(simulations):\n",
    "    z_score = random_z_score()\n",
    "    scenarioReturn.append(scenario_gain_loss(portfolio_value, portfolio_std_dev, z_score, days))"
   ]
  },
  {
   "cell_type": "code",
   "execution_count": 13,
   "metadata": {},
   "outputs": [
    {
     "name": "stdout",
     "output_type": "stream",
     "text": [
      "81029.01969888243\n"
     ]
    }
   ],
   "source": [
    "### Specify a confidence interval and calculate the Value at Risk (VaR)\n",
    "confidence_interval = 0.99\n",
    "VaR = -np.percentile(scenarioReturn, 100 * (1 - confidence_interval))\n",
    "print(VaR)"
   ]
  },
  {
   "cell_type": "code",
   "execution_count": 14,
   "metadata": {},
   "outputs": [
    {
     "data": {
      "image/png": "[encoded data removed]",
      "text/plain": [
       "<Figure size 640x480 with 1 Axes>"
      ]
     },
     "metadata": {},
     "output_type": "display_data"
    }
   ],
   "source": [
    "### Plot the results of all 10000 scenarios\n",
    "plt.hist(scenarioReturn, bins=50, density=True)\n",
    "plt.xlabel('Scenario Gain/Loss ($)')\n",
    "plt.ylabel('Frequency')\n",
    "plt.title(f'Distribution of Portfolio Gain/Loss Over {days} Days')\n",
    "plt.axvline(-VaR, color='r', linestyle='dashed', linewidth=2, label=f'VaR at {confidence_interval:.0%} confidence level')\n",
    "plt.legend()\n",
    "plt.show()"
   ]
  },
  {
   "cell_type": "code",
   "execution_count": null,
   "metadata": {},
   "outputs": [],
   "source": []
  }
 ],
 "metadata": {
  "kernelspec": {
   "display_name": "Python 3",
   "language": "python",
   "name": "python3"
  },
  "language_info": {
   "codemirror_mode": {
    "name": "ipython",
    "version": 3
   },
   "file_extension": ".py",
   "mimetype": "text/x-python",
   "name": "python",
   "nbconvert_exporter": "python",
   "pygments_lexer": "ipython3",
   "version": "3.11.6"
  }
 },
 "nbformat": 4,
 "nbformat_minor": 2
}
